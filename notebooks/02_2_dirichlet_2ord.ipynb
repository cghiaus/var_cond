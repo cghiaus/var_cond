{
 "cells": [
  {
   "cell_type": "markdown",
   "id": "34b43e47-56dc-431d-bf7e-42904b4981e3",
   "metadata": {},
   "source": [
    "# Plane wall with Dirichlet boundary conditions: quadratic variation of conductivity\n",
    "\n",
    "# Model fitting to experimental data\n",
    "\n",
    "[![Binder](https://mybinder.org/badge_logo.svg)](https://mybinder.org/v2/gh/cghiaus/var_cond/HEAD?labpath=notebooks%2F02_2_dirichlet_2ord.ipynb)\n",
    "\n",
    "Let's consider heat transfer in steady-state, without internal sources, in a plane wall for which the conductivity varies quadratically with temperature:\n",
    "\n",
    "$$\n",
    "\\lambda = \\lambda_0(1 + \\beta (T - T_b)^2)\n",
    "$$\n",
    "\n",
    "where $\\lambda_0$, $\\beta$, and $T_b$ are determined experimenatlly.\n",
    "\n",
    "We will consider that the wall, of width $w$, has [Dirichlet boundary conditions](https://en.wikipedia.org/wiki/Dirichlet_boundary_condition): $T_0$ in $x = 0$ and $T_1$ in $x = w$."
   ]
  },
  {
   "cell_type": "markdown",
   "id": "5e950296-e750-49ef-a44d-9de5d23f237d",
   "metadata": {},
   "source": [
    "## Analytical solution\n",
    "\n",
    "The [heat flux](https://en.wikipedia.org/wiki/Heat_flux) is constant:\n",
    "$$\n",
    "\\varphi = - \\lambda \\frac{dT}{dx} = -A\n",
    "$$\n",
    "\n",
    "Replacing $\\lambda$ by its quadratic expression, we obtain:\n",
    "\n",
    "$$\n",
    "\\lambda_0 (1 + \\beta (T - T_b)^2) \\frac{d T}{d x} = A\n",
    "$$\n",
    "\n",
    "Changing the variable $\\theta ≡ T - T_b$, and \n",
    "using the [separation of variables](https://en.wikipedia.org/wiki/Separation_of_variables), we obtain:\n",
    "\n",
    "$$\n",
    "\\lambda_0 (1 + \\beta \\theta^2) \\ d \\theta = A \\ dx\n",
    "$$\n",
    "\n",
    "which, by integration, yields:\n",
    "\n",
    "$$\n",
    "\\theta + \\beta \\frac{\\theta^3}{3} = \\frac{A}{\\lambda_0} x + \\frac{B}{\\lambda_0}\n",
    "$$\n",
    "\n",
    "By substituting $C ≡ A / \\lambda_0$ and $D ≡ D / \\lambda_0$, we obtain:\n",
    "\n",
    "$$\n",
    "\\theta + \\beta \\frac{\\theta^3}{3} = C x + D\n",
    "$$\n",
    "\n",
    "The constants $C$ and $D$ are obtained from boundary conditions:\n",
    "\n",
    "- at $x = 0$, $T = T_0$ and $\\theta = \\theta_0 ≡ T_0 - T_b$; it results\n",
    "\n",
    "$$\n",
    "D = \\theta_0 + \\beta \\frac{\\theta_0^3}{3}\n",
    "$$\n",
    "\n",
    "- at $x = w$, $T = T_1$ and $\\theta = \\theta_1 ≡ T_1 - T_b$; it results:\n",
    "\n",
    "$$\n",
    "C = \\frac{\\theta_1 - \\theta_0}{w} \\left ( 1 + \\beta \\frac{\\theta_0^2 + \\theta_0 \\theta_1 + \\theta_1^2}{3} \\right )\n",
    "$$\n",
    "\n",
    "From equation $\\theta + \\beta \\frac{\\theta^3}{3} = C x + D$, it results the temperature distribution by solving for $\\theta$ the equation:\n",
    "\n",
    "$$\n",
    "\\theta^3 + b \\theta + c = 0\n",
    "$$\n",
    "\n",
    "where:\n",
    "- $b = \\frac{3}{\\beta}$\n",
    "- $c = -\\frac{3}{\\beta}(C x + D)$\n",
    "\n",
    "There are two imaginary solutions and one real solution ([polymathsolve.com](https://www.polymathlove.com/polymonials/midpoint-of-a-line/symbolic-equation-solving.html#c=solve_algstepsequationsolve&v239=x%255E3%2520%2B%2520b*x%2520%2B%2520c%2520%253D%25200&v240=x), [quickmath.com](https://quickmath.com/#c=solve&v1=x%255E3%2Bbx%2Bc%253D0&v3=x))."
   ]
  },
  {
   "cell_type": "code",
   "execution_count": 1,
   "id": "9af79b51-7ec8-439d-bfd8-dba3b81cf81f",
   "metadata": {},
   "outputs": [],
   "source": [
    "import sympy as sp\n",
    "import numpy as np\n",
    "\n",
    "x, b, c = sp.symbols('x b c')\n",
    "equation = x**3 + b*x + c\n",
    "solution = sp.solve(equation, x)"
   ]
  },
  {
   "cell_type": "markdown",
   "id": "909b4685-2a47-4b90-bbd0-21b4fc7077f7",
   "metadata": {},
   "source": [
    "We will keep only the real solution."
   ]
  },
  {
   "cell_type": "code",
   "execution_count": 2,
   "id": "832c1b80-00d0-4150-b8a2-8908c28e4163",
   "metadata": {},
   "outputs": [
    {
     "data": {
      "text/latex": [
       "$\\displaystyle \\frac{b}{\\sqrt[3]{\\frac{27 c}{2} + \\frac{\\sqrt{108 b^{3} + 729 c^{2}}}{2}}} - \\frac{\\sqrt[3]{\\frac{27 c}{2} + \\frac{\\sqrt{108 b^{3} + 729 c^{2}}}{2}}}{3}$"
      ],
      "text/plain": [
       "b/(27*c/2 + sqrt(108*b**3 + 729*c**2)/2)**(1/3) - (27*c/2 + sqrt(108*b**3 + 729*c**2)/2)**(1/3)/3"
      ]
     },
     "execution_count": 2,
     "metadata": {},
     "output_type": "execute_result"
    }
   ],
   "source": [
    "# sp.init_printing() \n",
    "solution[0]"
   ]
  },
  {
   "cell_type": "code",
   "execution_count": 3,
   "id": "4d9ffb4b-81ce-4d6d-9f30-693094a4048a",
   "metadata": {},
   "outputs": [
    {
     "name": "stdout",
     "output_type": "stream",
     "text": [
      "b/(27*c/2 + sqrt(108*b**3 + 729*c**2)/2)**(1/3) - (27*c/2 + sqrt(108*b**3 + 729*c**2)/2)**(1/3)/3\n"
     ]
    }
   ],
   "source": [
    "print(solution[0])"
   ]
  },
  {
   "cell_type": "markdown",
   "id": "1589e8b1-b015-43dd-9fd9-2deef52fc114",
   "metadata": {},
   "source": [
    "The temperature distribution is:\n",
    "\n",
    "$$\n",
    "\\theta = \\frac{b}{b_c} - \\frac{b_c}{3}\n",
    "$$\n",
    "where:\n",
    "$$\n",
    "b_c = \\sqrt[3]{\\frac{27c}{2} + \\frac{\\sqrt{108b^3 + 729c^3}}{2}}\n",
    "$$\n",
    "\n",
    "The [heat flux](https://en.wikipedia.org/wiki/Heat_flux) is:\n",
    "\n",
    "$$\n",
    "\\varphi = -\\lambda_0 C \n",
    "$$"
   ]
  },
  {
   "cell_type": "markdown",
   "id": "84e45994-41b4-4812-a9cd-ef941776e293",
   "metadata": {
    "tags": []
   },
   "source": [
    "## Numerical solution\n",
    "\n",
    "The convergence criteria and the validation are similar to the case of linear model for the conductivity.\n",
    "\n",
    "### Conductances\n",
    "Considering that, for a conductance with boundary temperatures $T_0$ and $T_1$ the mean conductivity is:\n",
    "\n",
    "$$\n",
    "\\bar{\\lambda} = \\lambda_0  \\left[ 1 +\\beta  \\left( \\frac{T_0^2 + T_0 T_1 + T_1^2}{3} - T_b (T_0 + T_1 - T_b) \\right )\\right]\n",
    "$$\n",
    "\n",
    "Let's note\n",
    "\n",
    "$$\n",
    "\\theta_{mean, k} = \\frac{T_{0,k}^2 + T_{0,k} T_{1,k} + T_{1,k}^2}{3} - T_b (T_{0,k} + T_{1,k} - T_b)\n",
    "$$\n",
    "where $T_{0,k}$ and $T_{1,k}$ are the bondary temperatures for branch $k$. Then the conductances of branch $k$ is:\n",
    "\n",
    "$$\n",
    "G_k = \\frac{\\lambda_{m,k}}{(w/n_b)}\n",
    "$$\n",
    "where $\\lambda_{m,k} = \\lambda_{0,k}(1 + \\beta \\theta_{mean,k})$.\n",
    "\n",
    "Written in a matrix form,\n",
    "\n",
    "$$\n",
    "\\bar \\lambda = \\lambda_0 (I + \\beta \\ \\mathrm{diag}\\theta_{mean})\n",
    "$$\n",
    "\n",
    "and \n",
    "\n",
    "$$\n",
    "G = \\frac{1}{w/n_b} \\bar \\lambda\n",
    "$$\n",
    "\n",
    "where:\n",
    "- $\\bar \\lambda$ - diagonal matrix of average conductivities;\n",
    "- $\\lambda_0$ - scalar conductivity for mean temperature $T = T_b$;\n",
    "- $I$ - [identity matrix](https://en.m.wikipedia.org/wiki/Identity_matrix);\n",
    "- $\\beta$ - scalar temperature coefficient;\n",
    "- $\\mathrm{diag}(\\theta_{mean})$ - diagonal matrix of $\\frac{\\theta_{k-1}^2 + \\theta_{k-1} \\theta_k + \\theta_k^2}{3} - T_b (\\theta_{k-1} + \\theta_k - T_b)$, where:\n",
    "    - $k=0, ... , n_b-1$;\n",
    "    - $\\theta_{-1}=T_0$, $\\theta_{n_b-1}=T_1$;\n",
    "    - $T_b$ - mean temperature in $\\lambda = \\lambda(T)$."
   ]
  },
  {
   "cell_type": "markdown",
   "id": "fcd3a70c-7e46-4428-a8d3-218f960f682a",
   "metadata": {},
   "source": [
    "### Iterative method\n",
    "\n",
    "The [iterative method](https://en.m.wikipedia.org/wiki/Iterative_method) considering temperature as intial guess is:\n",
    "\n",
    "- initially, consider conductances calculated with conductivity $\\lambda_0$:\n",
    "\n",
    "$$\n",
    "G_0 = \\frac{\\lambda_0}{w/n_b} I\n",
    "$$\n",
    "where $I$ is an [identity matrix](https://en.m.wikipedia.org/wiki/Identity_matrix) of size the number of branches $n_b$.\n",
    "\n",
    "- with $G_0$, estimate the initial temperature distribution:\n",
    "\n",
    "$$\n",
    "\\theta_0 = (A^T G A)^{-1}(A^T G b + f)\n",
    "$$\n",
    "\n",
    "\n",
    "- __while__ $\\varepsilon > \\varepsilon_{admitted}$:\n",
    "    - $\\bar \\theta = \\frac{\\theta_{k-1}^2 + \\theta_{k-1} \\theta_k + \\theta_k^2}{3} - T_b (\\theta_{k-1} + \\theta_k - T_b)$, $k=0, ... , n_b-1$, $\\theta_{-1}=T_0$, $\\theta_{n_b-1}=T_1$\n",
    "    - $G = \\frac{1}{w/n_b} \\lambda_0 (I + \\beta \\ \\mathrm{diag}\\bar \\theta)$\n",
    "    - $\\theta = (A^T G A)^{-1}(A^T G b + f)$\n",
    "    - $\\varepsilon = \\mathrm{max}(|\\theta - \\theta_0|)$\n",
    "    - $\\theta_0 \\leftarrow  \\theta$\n",
    "- $q = G (-A \\theta + b)$"
   ]
  },
  {
   "cell_type": "code",
   "execution_count": 7,
   "id": "bcdab98e-4d41-4ce3-ab6b-f3dadc6e0000",
   "metadata": {},
   "outputs": [
    {
     "data": {
      "image/png": "[encoded data removed]",
      "text/plain": [
       "<Figure size 432x288 with 1 Axes>"
      ]
     },
     "metadata": {
      "needs_background": "light"
     },
     "output_type": "display_data"
    }
   ],
   "source": [
    "import sys\n",
    "sys.path.append('../src')  # Add 'scr' directory to the system path\n",
    "import var_cond\n",
    "\n",
    "# Data\n",
    "w = 0.20                    # m, width of the plane wall\n",
    "nb = 3                      # number of branches, nb > 1\n",
    "T0, T1 = -20, 50            # °C, boundary temperatures\n",
    "Tb = None                   # °C, mean (base) temperature\n",
    "deg = 2\n",
    "\n",
    "a, b, c = 8.364e-06, -3.857e-04, 3.128e-02  # fitted λ(T) = a·T² + b·T + c\n",
    "\n",
    "# Model λ(T) = a*T + b to λ(T) = λ0 * (1 + β * (T - Tb))\n",
    "λ0, β, Tb = var_cond.poly2model([a, b, c], Tb, deg)\n",
    "\n",
    "cond_model = [λ0, β, Tb, deg]\n",
    "width_mesh = [w, nb]\n",
    "surf_temp = [T0, T1]\n",
    "\n",
    "# Numerical solution\n",
    "θ_n, q_n, x_n = var_cond.dirichlet_num(cond_model, width_mesh, surf_temp)\n",
    "\n",
    "# Analytical solution\n",
    "θ_a, q_a, x_a = var_cond.dirichlet_anal(cond_model, w, surf_temp, num=5)\n",
    "\n",
    "var_cond.dirichlet_plot(x_n, θ_n, x_a, θ_a, T0, T1, 'Polyisocyanurate')"
   ]
  },
  {
   "cell_type": "code",
   "execution_count": 11,
   "id": "33e42d43-e70d-48e8-9731-29d3eb4bb34d",
   "metadata": {},
   "outputs": [
    {
     "name": "stdout",
     "output_type": "stream",
     "text": [
      "Flow rate / m²:\n",
      "q_n = -10.78 W/m² - numerical solution\n",
      "q_a = -10.78 W/m² - analytical solution\n",
      "q_m = -10.78 W/m² - solution using mean conductivity\n"
     ]
    }
   ],
   "source": [
    "# Flow rate using average conductivity\n",
    "θm = (T0**2 + T0 * T1 + T1**2) / 3 - Tb * (T0 + T1 - Tb)\n",
    "λm = λ0 * (1 + β * θm)\n",
    "q_m = λm / w * (T0 - T1)\n",
    "\n",
    "print('Flow rate / m²:')\n",
    "print(f'q_n = {q_n[0]:.2f} W/m² - numerical solution')\n",
    "print(f'q_a = {q_a:.2f} W/m² - analytical solution')\n",
    "print(f'q_m = {q_m:.2f} W/m² - solution using mean conductivity')"
   ]
  },
  {
   "cell_type": "code",
   "execution_count": null,
   "id": "a8fa0d27-036b-4da2-a486-403a6ac527ad",
   "metadata": {},
   "outputs": [],
   "source": []
  }
 ],
 "metadata": {
  "kernelspec": {
   "display_name": "Python 3 (ipykernel)",
   "language": "python",
   "name": "python3"
  },
  "language_info": {
   "codemirror_mode": {
    "name": "ipython",
    "version": 3
   },
   "file_extension": ".py",
   "mimetype": "text/x-python",
   "name": "python",
   "nbconvert_exporter": "python",
   "pygments_lexer": "ipython3",
   "version": "3.9.7"
  }
 },
 "nbformat": 4,
 "nbformat_minor": 5
}
