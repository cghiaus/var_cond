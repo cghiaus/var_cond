{
 "cells": [
  {
   "cell_type": "markdown",
   "id": "627e656a-6122-4b24-a8fc-e6d067fc0ef3",
   "metadata": {
    "tags": []
   },
   "source": [
    "# Plane wall with Dirichlet boundary conditions\n",
    "\n",
    "[![Binder](https://mybinder.org/badge_logo.svg)](https://mybinder.org/v2/gh/cghiaus/var_cond/HEAD?labpath=notebooks%2F02_dirichlet.ipynb)\n",
    "\n",
    "Let's consider heat transfer in steady-state, without internal source in a plane wall for which the conductivity varies linearly:\n",
    "\n",
    "$$\n",
    "\\lambda = \\lambda_0(1 + \\beta (T - T_b))\n",
    "$$\n",
    "\n",
    "or quadratically:\n",
    "\n",
    "$$\n",
    "\\lambda = \\lambda_0(1 + \\beta (T - T_b)^2)\n",
    "$$\n",
    "\n",
    "with temperature $T$, where:\n",
    "- $\\lambda_0$ is the conductivity for base temperature $T = T_b$, W/(m·K);\n",
    "- $\\beta$ - temperature coefficient, W/(m·K²) or W/(m·K⁴);\n",
    "- $T_b$ Base temperature.\n",
    "\n",
    "The parameters $\\lambda_0$, $\\beta$ and $T_b$ are determined experimenatlly.\n",
    "\n",
    "We will consider that the wall, of width $w$, has [Dirichlet boundary conditions](https://en.wikipedia.org/wiki/Dirichlet_boundary_condition): $T_0$ in $x = 0$ and $T_1$ in $x = w$ and no internal sources."
   ]
  },
  {
   "cell_type": "markdown",
   "id": "2668747b-e35d-4812-84f4-41ef2ab4212d",
   "metadata": {
    "tags": []
   },
   "source": [
    "## Analytical solution\n",
    "\n",
    "In the case of steady-state heat conduction through a plane wall without internal sources, the [heat equation](https://en.m.wikipedia.org/wiki/Heat_equation) for a non-uniform isotropic medium,\n",
    "\n",
    "$$\n",
    "\\rho c_p \\frac{\\partial T}{\\partial t} = div ( \\lambda \\textbf{ grad} T) + q_v\n",
    "$$\n",
    "\n",
    "where $q_v$ is the volumetric source, reduces to:\n",
    "\n",
    "$$\n",
    "\\frac{d}{dx} \\lambda \\frac{dT}{dx} = 0\n",
    "$$\n",
    "\n",
    "Then,\n",
    "\n",
    "$$\n",
    "\\lambda \\frac{dT}{dx} = A\n",
    "$$\n",
    "\n",
    "where $A$ is a constant. Note that from [Fourier's law](https://en.wikipedia.org/wiki/Thermal_conduction#Fourier%27s_law), the [heat flux](https://en.wikipedia.org/wiki/Heat_flux) is constant:\n",
    "\n",
    "$$\n",
    "\\varphi = - \\lambda \\frac{dT}{dx} = -A\n",
    "$$"
   ]
  },
  {
   "cell_type": "markdown",
   "id": "4cb596d3-b91d-4c83-9120-de4cab3b8eea",
   "metadata": {
    "tags": []
   },
   "source": [
    "### Linear model\n",
    "\n",
    "Replacing $\\lambda$ by its linear expression, we obtain:\n",
    "\n",
    "$$\n",
    "\\lambda_0 (1 + \\beta (T - T_b)) \\frac{d T}{d x} = A\n",
    "$$\n",
    "\n",
    "Changing the variable $\\theta ≡ T - T_b$, and \n",
    "using the [separation of variables](https://en.wikipedia.org/wiki/Separation_of_variables), we obtain:\n",
    "\n",
    "$$\n",
    "\\lambda_0 (1 + \\beta \\theta) \\ d \\theta = A \\ dx\n",
    "$$\n",
    "\n",
    "which, by integration, yields:\n",
    "\n",
    "$$\n",
    "\\theta + \\beta \\frac{\\theta^2}{2} = \\frac{A}{\\lambda_0} x + \\frac{B}{\\lambda_0}\n",
    "$$\n",
    "\n",
    "By substituting $C ≡ A / \\lambda_0$ and $D ≡ D / \\lambda_0$, we obtain:\n",
    "\n",
    "$$\n",
    "\\theta + \\beta \\frac{\\theta^2}{2} = C x + D\n",
    "$$\n",
    "\n",
    "The constants $C$ and $D$ are obtained from boundary conditions:\n",
    "\n",
    "- at $x = 0$, $T = T_0$ and $\\theta = \\theta_0 ≡ T_0 - T_b$; it results\n",
    "\n",
    "$$\n",
    "D = \\theta_0 + \\beta \\frac{\\theta_0^2}{2} = (T_0 - T_b) + \\beta \\frac{(T_0 - T_b)^2}{2}\n",
    "$$\n",
    "\n",
    "- at $x = w$, $T = T_1$ and $\\theta = \\theta_1 ≡ T_1 - T_b$; it results:\n",
    "\n",
    "$$\n",
    "C = \\frac{\\theta_1 - \\theta_0}{w} \\left ( 1 + \\beta \\frac{\\theta_0 + \\theta_1}{2} \\right) = \\frac{T_1 - T_0}{w} \\left ( 1 + \\beta \\left (\\frac{T_0 + T_1}{2} - T_b \\right) \\right)\n",
    "$$\n",
    "\n",
    "From equation $\\theta + \\beta \\frac{\\theta^2}{2} = C x + D$, it results the temperature distribution as a function of $x$:\n",
    "\n",
    "$$\n",
    "\\theta = -b + \\sqrt{b^2 - c}\n",
    "$$\n",
    "\n",
    "or\n",
    "\n",
    "$$\n",
    "T = -b + \\sqrt{b^2 - c} + T_b\n",
    "$$\n",
    "\n",
    "where:\n",
    "- $b = \\frac{1}{\\beta}$\n",
    "- $c = -\\frac{2}{\\beta}(Cx + D)$\n",
    "\n",
    "From equation $\\theta + \\beta \\frac{\\theta^2}{2} = C x + D$, we obtain:\n",
    "\n",
    "$$\n",
    "\\theta = - \\frac{1}{\\beta} \\pm \\sqrt{\\frac{1}{\\beta^2} + \\frac{2}{\\beta}(Cx + D)}\n",
    "$$\n",
    "\n",
    "By considering only the solution with physical meaning, we obtain the distribution of the reduced temperature:\n",
    "\n",
    "$$\n",
    "\\theta = - \\frac{1}{\\beta} + \\sqrt{\\left (  \\frac{1}{\\beta } + \\theta_0 \\right )^2 + \\frac{2}{\\beta}Cx}\n",
    "$$\n",
    "\n",
    "or of the temperature:\n",
    "\n",
    "$$\n",
    "T = - \\frac{1}{\\beta} + \\sqrt{\\left (  \\frac{1}{\\beta } + T_0 - T_b \\right )^2 + \\frac{2}{\\beta}Cx} + Tb\n",
    "$$\n",
    "\n",
    "and the [heat flux](https://en.wikipedia.org/wiki/Heat_flux):\n",
    "\n",
    "$$\n",
    "\\varphi = -\\lambda_0 C = \\lambda_0 \\frac{T_0 - T_1}{w} \\left ( 1 + \\beta \\frac{T_0 + T_1}{2} - T_b \\right )\n",
    "$$\n",
    "\n",
    "or the [heat flow rate](https://en.wikipedia.org/wiki/Rate_of_heat_flow):\n",
    "\n",
    "$$\n",
    "q = \\varphi S = \\lambda_0 \\frac{T_0 - T_1}{w} S \\left ( 1 + \\beta \\frac{T_0 + T_1}{2} - T_b \\right )\n",
    "$$\n",
    "\n",
    "where $S$ is the [surface area](https://en.wikipedia.org/wiki/Surface_area) of the plane wall."
   ]
  },
  {
   "cell_type": "markdown",
   "id": "ed36ab5a-d819-4817-914e-5ad5a6d6fc6f",
   "metadata": {},
   "source": [
    "### Quadratic model\n",
    "\n",
    "The [heat flux](https://en.wikipedia.org/wiki/Heat_flux) is constant:\n",
    "$$\n",
    "\\varphi = - \\lambda \\frac{dT}{dx} = -A\n",
    "$$\n",
    "\n",
    "Replacing $\\lambda$ by its quadratic expression, we obtain:\n",
    "\n",
    "$$\n",
    "\\lambda_0 (1 + \\beta (T - T_b)^2) \\frac{d T}{d x} = A\n",
    "$$\n",
    "\n",
    "Changing the variable $\\theta ≡ T - T_b$, and \n",
    "using the [separation of variables](https://en.wikipedia.org/wiki/Separation_of_variables), we obtain:\n",
    "\n",
    "$$\n",
    "\\lambda_0 (1 + \\beta \\theta^2) \\ d \\theta = A \\ dx\n",
    "$$\n",
    "\n",
    "which, by integration, yields:\n",
    "\n",
    "$$\n",
    "\\theta + \\beta \\frac{\\theta^3}{3} = \\frac{A}{\\lambda_0} x + \\frac{B}{\\lambda_0}\n",
    "$$\n",
    "\n",
    "By substituting $C ≡ A / \\lambda_0$ and $D ≡ D / \\lambda_0$, we obtain:\n",
    "\n",
    "$$\n",
    "\\theta + \\beta \\frac{\\theta^3}{3} = C x + D\n",
    "$$\n",
    "\n",
    "The constants $C$ and $D$ are obtained from boundary conditions:\n",
    "\n",
    "- at $x = 0$, $T = T_0$ and $\\theta = \\theta_0 ≡ T_0 - T_b$; it results\n",
    "\n",
    "$$\n",
    "D = \\theta_0 + \\beta \\frac{\\theta_0^3}{3}\n",
    "$$\n",
    "\n",
    "- at $x = w$, $T = T_1$ and $\\theta = \\theta_1 ≡ T_1 - T_b$; it results:\n",
    "\n",
    "$$\n",
    "C = \\frac{\\theta_1 - \\theta_0}{w} \\left ( 1 + \\beta \\frac{\\theta_0^2 + \\theta_0 \\theta_1 + \\theta_1^2}{3} \\right )\n",
    "$$\n",
    "\n",
    "From equation $\\theta + \\beta \\frac{\\theta^3}{3} = C x + D$, it results the temperature distribution by solving for $\\theta$ the equation:\n",
    "\n",
    "$$\n",
    "\\theta^3 + b \\theta + c = 0\n",
    "$$\n",
    "\n",
    "where:\n",
    "- $b = \\frac{3}{\\beta}$\n",
    "- $c = -\\frac{3}{\\beta}(C x + D)$\n",
    "\n",
    "There are two imaginary solutions and one real solution ([polymathsolve.com](https://www.polymathlove.com/polymonials/midpoint-of-a-line/symbolic-equation-solving.html#c=solve_algstepsequationsolve&v239=x%255E3%2520%2B%2520b*x%2520%2B%2520c%2520%253D%25200&v240=x), [quickmath.com](https://quickmath.com/#c=solve&v1=x%255E3%2Bbx%2Bc%253D0&v3=x)). We will keep only the real solution."
   ]
  },
  {
   "cell_type": "code",
   "execution_count": 1,
   "id": "ff935e39-dbcb-4075-a072-84b116b4e38e",
   "metadata": {},
   "outputs": [
    {
     "data": {
      "text/latex": [
       "$\\displaystyle \\frac{b}{\\sqrt[3]{\\frac{27 c}{2} + \\frac{\\sqrt{108 b^{3} + 729 c^{2}}}{2}}} - \\frac{\\sqrt[3]{\\frac{27 c}{2} + \\frac{\\sqrt{108 b^{3} + 729 c^{2}}}{2}}}{3}$"
      ],
      "text/plain": [
       "b/(27*c/2 + sqrt(108*b**3 + 729*c**2)/2)**(1/3) - (27*c/2 + sqrt(108*b**3 + 729*c**2)/2)**(1/3)/3"
      ]
     },
     "execution_count": 1,
     "metadata": {},
     "output_type": "execute_result"
    }
   ],
   "source": [
    "import sympy as sp\n",
    "import numpy as np\n",
    "\n",
    "x, b, c = sp.symbols('x b c')\n",
    "equation = x**3 + b*x + c\n",
    "solution = sp.solve(equation, x)\n",
    "solution[0]"
   ]
  },
  {
   "cell_type": "markdown",
   "id": "f8d68d18-3d39-4eb2-a43a-7db9c0c7ebc0",
   "metadata": {},
   "source": [
    "The temperature distribution is:\n",
    "\n",
    "$$\n",
    "\\theta = \\frac{b}{b_c} - \\frac{b_c}{3}\n",
    "$$\n",
    "where:\n",
    "$$\n",
    "b_c = \\sqrt[3]{\\frac{27c}{2} + \\frac{\\sqrt{108b^3 + 729c^3}}{2}}\n",
    "$$\n",
    "\n",
    "The [heat flux](https://en.wikipedia.org/wiki/Heat_flux) is:\n",
    "\n",
    "$$\n",
    "\\varphi = -\\lambda_0 C \n",
    "$$"
   ]
  },
  {
   "cell_type": "markdown",
   "id": "8a73194c-2a93-4656-a089-1d4757e30273",
   "metadata": {
    "tags": []
   },
   "source": [
    "## Numerical solution\n",
    "\n",
    "For the numerical solution, the wall is divided in $n_b$ number of branches."
   ]
  },
  {
   "cell_type": "markdown",
   "id": "bfb0110c-41f4-4113-a065-c8773169c882",
   "metadata": {
    "tags": []
   },
   "source": [
    "### Thermal circuit\n",
    "![therm_circ](./figures/var_cond_dirichlet.svg)\n",
    "\n",
    "> Figure 1. Thermal circuit for numerical solution.\n",
    "\n",
    "In case the number of branches is $n_b = 3$, the matrices and vectors of the thermal circuit are:\n",
    "\n",
    "$$\n",
    "A = \\begin{bmatrix}\n",
    "1 & 0\\\\ \n",
    "-1 & 1\\\\ \n",
    "0 & -1\n",
    "\\end{bmatrix}\n",
    "; \\\n",
    "G = \\begin{bmatrix}\n",
    "G_0 & 0 & 0 \\\\ \n",
    "0 & G_1 & 0\\\\ \n",
    "0 & 0 & G_2 \n",
    "\\end{bmatrix}\n",
    "; \\\n",
    "b = \\begin{bmatrix}\n",
    "T_0\\\\ \n",
    "0\\\\ \n",
    "-T_1\n",
    "\\end{bmatrix}\n",
    "$$\n",
    "\n",
    "$$\n",
    "f = \\begin{bmatrix}\n",
    "0 & 0\n",
    "\\end{bmatrix}^T\n",
    "$$\n",
    "\n",
    "The solution of the system is\n",
    "\n",
    "$$\\left\\{\\begin{array}{ll}\n",
    "\\theta = (A^T G A)^{-1}(A^T G b + f)\\\\ \n",
    "q = G (-A \\theta + b)\n",
    "\\end{array}\\right.$$"
   ]
  },
  {
   "cell_type": "markdown",
   "id": "d9f15d7a-22a6-474a-852a-ad67008a150d",
   "metadata": {
    "tags": []
   },
   "source": [
    "### Conductances\n",
    "\n",
    "#### Linear model\n",
    "\n",
    "Considering that, for a conductance with boundary temperatures $T_0$ and $T_1$ the mean conductivity for linear variation of the conductance is:\n",
    "\n",
    "$$\n",
    "\\bar{\\lambda} = \\lambda_0 \\left[1 + \\beta \\left(\\frac{T_0 + T_1}{2} - T_b \\right ) \\right]\n",
    "$$\n",
    "\n",
    "the conductances of the thermal circuit are:\n",
    "\n",
    "- $G_0 = \\frac{\\bar \\lambda_0}{w/n_b}$; $\\bar{\\lambda_0} = \\lambda_0 \\left[1 + \\beta \\left(\\frac{T_0 + \\theta_0}{2} - T_b \\right ) \\right]$\n",
    "\n",
    "- $G_1 = \\frac{\\bar \\lambda_1}{w/n_b}$; $\\bar{\\lambda_1} = \\lambda_0 \\left[1 + \\beta \\left(\\frac{\\theta_0 + \\theta_1}{2} - T_b \\right ) \\right]$\n",
    "\n",
    "- $G_2 = \\frac{\\bar \\lambda_2}{w/n_b}$; $\\bar{\\lambda_2} = \\lambda_0 \\left[1 + \\beta \\left(\\frac{\\theta_1 + T1}{2} - T_b \\right ) \\right]$\n",
    "\n",
    "Let's note\n",
    "\n",
    "$$\n",
    "\\bar \\theta_k = \\frac{T_{0,k} + T_{1,k}}{2} - T_b\n",
    "$$\n",
    "\n",
    "or\n",
    "\n",
    "$$ \\bar \\theta_k = (\\theta_{k-1} + \\theta_k) / 2$$\n",
    "\n",
    "with $k=0, ... , n_b-1$\n",
    "\n",
    "where $T_{0,k}$ and $T_{1,k}$ ($\\theta_{k-1}$ and $\\theta_k$) are the bondary temperatures for branch $k.$ \n",
    "The conductances of branch $k$ is:\n",
    "\n",
    "$$\n",
    "G_k = \\frac{\\bar \\lambda_k}{(w/n_b)}\n",
    "$$\n",
    "\n",
    "where $\\bar \\lambda_k = \\lambda_{0,k}(1 + \\beta \\bar \\theta_k)$.\n",
    "\n",
    "#### Quadratic model\n",
    "\n",
    "Considering that, for a conductance with boundary temperatures $T_0$ and $T_1$ the mean conductivity for the quadratic model is:\n",
    "\n",
    "$$\n",
    "\\bar{\\lambda} = \\lambda_0  \\left[ 1 +\\beta  \\left( \\frac{T_0^2 + T_0 T_1 + T_1^2}{3} - T_b (T_0 + T_1 - T_b) \\right )\\right]\n",
    "$$\n",
    "\n",
    "Let's note $\\mathrm{diag}(\\bar \\theta)$ the diagonal matrix of \n",
    "\n",
    "$$\\bar \\theta_k = \\frac{\\theta_{k-1}^2 + \\theta_{k-1} \\theta_k + \\theta_k^2}{3} - T_b (\\theta_{k-1} + \\theta_k - T_b)$$\n",
    "\n",
    "where:\n",
    "- $k=0, ... , n_b-1$;\n",
    "- $\\theta_{-1}=T_0$, $\\theta_{n_b-1}=T_1$;\n",
    "- $T_b$ - mean temperature in $\\lambda = \\lambda(T)$\n",
    "\n",
    "$$\n",
    "\\bar \\theta_k = \\frac{T_{0,k}^2 + T_{0,k} T_{1,k} + T_{1,k}^2}{3} - T_b (T_{0,k} + T_{1,k} - T_b)\n",
    "$$\n",
    "\n",
    "where $T_{0,k}$ and $T_{1,k}$ are the bondary temperatures for branch $k$. Then the conductances of branch $k$ is:\n",
    "\n",
    "$$\n",
    "G_k = \\frac{\\bar \\lambda_k}{(w/n_b)}\n",
    "$$\n",
    "where $\\bar \\lambda_k = \\lambda_{0,k}(1 + \\beta \\bar \\theta_k)$.\n",
    "\n",
    "#### Matrix form\n",
    "Writing the conductances in a matrix form,\n",
    "\n",
    "$$\n",
    "\\bar \\lambda = \\lambda_0 (I + \\beta \\ \\mathrm{diag}(\\bar \\theta))\n",
    "$$\n",
    "\n",
    "and \n",
    "\n",
    "$$\n",
    "G = \\frac{1}{w/n_b} \\bar \\lambda\n",
    "$$\n",
    "\n",
    "where:\n",
    "- $\\bar \\lambda$ - diagonal matrix of average conductivities;\n",
    "- $\\lambda_0$ - scalar conductivity for base temperature $T = T_b$;\n",
    "- $I$ - [identity matrix](https://en.m.wikipedia.org/wiki/Identity_matrix);\n",
    "- $\\beta$ - scalar temperature coefficient;\n",
    "- $\\mathrm{diag}(\\bar \\theta)$ - diagonal matrix of $\\bar \\theta_k$, the mean temperature for linear and quadratic model, respectively. \n",
    "\n",
    "Since conductance $G$ is a function of temperature $\\theta$ and the temperature $\\theta$ is a function of conductance, the solution is found by iterations. "
   ]
  },
  {
   "cell_type": "markdown",
   "id": "88c768cf-1a3e-41e1-8580-ad0265e916eb",
   "metadata": {
    "tags": []
   },
   "source": [
    "### Iterative method\n",
    "\n",
    "[Iterative methods](https://en.m.wikipedia.org/wiki/Iterative_method) are computational algorithms employed to approximate solutions through successive refinement of an initial guess until meeting a convergence criterion. In the context of the problem under study, the initial guess could represent the temperature distribution or the values of conductances, while the convergence criterion is determined by the variation in temperature distribution or conductance values from one iteration to the next. "
   ]
  },
  {
   "cell_type": "markdown",
   "id": "86161389-e7ab-4d1d-8a44-d56e89166049",
   "metadata": {
    "tags": []
   },
   "source": [
    "#### Convergence criterion\n",
    "\n",
    "We will consider as convergence criterion the variation of temperature measured by the [maximum norm](https://en.wikipedia.org/wiki/Uniform_norm):\n",
    "\n",
    "$$\n",
    "\\left \\| \\varepsilon \\right \\|_\\infty ≡ \\mathrm{max}(|\\theta - \\theta_0|) = \\mathrm{max}(|\\theta_{[0]} - \\theta_{0,[0]}|,... ,|\\theta_{[n]} - \\theta_{0,[n]}|)\n",
    "$$\n",
    "\n",
    "where $\\theta_0$ is the previous temperature and $\\theta$ is the current temperature. In this case, the convergence is reached faster if the temperature difference between the surfaces of the plane wall are smaller. If the convergence of conductances were used, the number of interations would be the same independetly on the temperature difference."
   ]
  },
  {
   "cell_type": "markdown",
   "id": "ede90333-fa03-4c04-b185-906fb5368c3b",
   "metadata": {},
   "source": [
    "#### Iterative method\n",
    "\n",
    "Considering conductances as intial guess, the [iterative method](https://en.m.wikipedia.org/wiki/Iterative_method) is:\n",
    "\n",
    "- initially, consider conductances calculated with conductivity $\\lambda_0$:\n",
    "\n",
    "$$\n",
    "G_0 = \\frac{\\lambda_0}{w/n_b} I\n",
    "$$\n",
    "\n",
    "where $I$ is an [identity matrix](https://en.m.wikipedia.org/wiki/Identity_matrix) of size the number of branches $n_b$.\n",
    "\n",
    "- with $G_0$, estimate initial temperature distribution:\n",
    "\n",
    "$$\n",
    "\\theta_0 = (A^T G A)^{-1}(A^T G b + f)\n",
    "$$\n",
    "\n",
    "- __while__ $\\varepsilon > \\varepsilon_{admitted}$:\n",
    "    - $ \\bar \\theta = f(\\theta_0)$ for linear or quadratic model\n",
    "    - $G = \\frac{1}{w/n_b} \\lambda_0 (I + \\beta \\ \\mathrm{diag}(\\bar \\theta))$\n",
    "    - $\\theta = (A^T G A)^{-1}(A^T G b + f)$\n",
    "    - $\\varepsilon = \\mathrm{max}(|\\theta - \\theta_0|)$\n",
    "    - $\\theta_0 \\leftarrow  \\theta$\n",
    "- $q = G (-A \\theta + b)$\n",
    "\n",
    "Note that supposing that the conductance is constant results in a uniform distribution of temperatures."
   ]
  },
  {
   "cell_type": "markdown",
   "id": "735f5cd9-681b-4380-a061-a7b36131ec7e",
   "metadata": {
    "tags": []
   },
   "source": [
    "#### Validation\n",
    "\n",
    "##### Temperature distribution\n",
    "\n",
    "The validation of the iterative method can be done by comparing the temperature distributions with those obtained analytically for the linear and quadratic model.\n",
    "\n",
    "\n",
    "##### Heat flux\n",
    "\n",
    "The heat flow obtained by numerical model is:\n",
    "\n",
    "$$\n",
    "q_n = G (-A \\theta + b)\n",
    "$$\n",
    "\n",
    "and by analytical model is:\n",
    "\n",
    "$$\n",
    "q_a = -\\lambda_0 C \n",
    "$$\n",
    "\n",
    "where $C$ depends on the order of the model (linear or quadratic).\n",
    "\n",
    "By using the mean conductivity,\n",
    "\n",
    "$$\n",
    "\\bar \\lambda = \\lambda_0(1 + \\beta \\bar \\theta)\n",
    "$$\n",
    "\n",
    "\n",
    "where the mean temperature is\n",
    "\n",
    "$$\n",
    "\\bar \\theta = \\frac{T_0 + T_1}{2} - T_b\n",
    "$$\n",
    "\n",
    "for linear model, and\n",
    "\n",
    "$$\n",
    "\\bar \\theta = \\frac{T_0^2 + T_0 T_1 + T_1^2}{3} - T_b (T_0 + T_1 - T_b)\n",
    "$$\n",
    "\n",
    "for quadratic model, we obain the flow:\n",
    "\n",
    "$$\n",
    "q_m = \\frac{\\bar \\lambda}{w} (T_0 - T_1)\n",
    "$$\n",
    "\n",
    "The differences between these three calculation, numerical $q_n$, analytical $q_a$, and by using the mean conductivity, $q_m$, need to be negligible (due to numerical calculations)."
   ]
  },
  {
   "cell_type": "markdown",
   "id": "6e46ce90-af33-4c9e-a2e9-577ac7ddbb18",
   "metadata": {
    "tags": []
   },
   "source": [
    "## Examples\n",
    "\n",
    "Let's consider a plane wall with two materials, one with linear conductivity and the other one with quadratic conductivity."
   ]
  },
  {
   "cell_type": "code",
   "execution_count": 7,
   "id": "1ca38e2c-1993-4cb1-9bb9-1e6146d1c428",
   "metadata": {},
   "outputs": [],
   "source": [
    "import sys\n",
    "sys.path.append('../src')  # Add 'scr' directory to the system path\n",
    "import var_cond\n",
    "\n",
    "# Data\n",
    "width = 0.20                # m, width of the plane wall\n",
    "mesh = 3                    # number of meshes (branches), mesh > 1\n",
    "surf_temp = -20, 50         # °C, boundary temperatures out/in surface"
   ]
  },
  {
   "cell_type": "markdown",
   "id": "69ea2401-85ab-420c-bf73-3d78f7535233",
   "metadata": {
    "tags": []
   },
   "source": [
    "### Linear model"
   ]
  },
  {
   "cell_type": "code",
   "execution_count": 3,
   "id": "2d82ad0f-8d90-4a08-9cc9-00dff4552a43",
   "metadata": {},
   "outputs": [
    {
     "data": {
      "image/png": "[encoded data removed]",
      "text/plain": [
       "<Figure size 432x288 with 1 Axes>"
      ]
     },
     "metadata": {
      "needs_background": "light"
     },
     "output_type": "display_data"
    }
   ],
   "source": [
    "# data linear model\n",
    "Tb = 20                     # °C, mean (base) temperature\n",
    "deg = 1\n",
    "\n",
    "a, b = 0.0002, 0.04         # fitted λ(T) = a * T + b\n",
    "\n",
    "T0, T1 = surf_temp\n",
    "\n",
    "# Model λ(T) = a*T + b to λ(T) = λ0 * (1 + β * (T - Tb))\n",
    "λ0, β, θ0 = var_cond.poly2model([a, b], Tb, deg)\n",
    "conductivity_model = [λ0, β, Tb, deg]\n",
    "\n",
    "# Numerical solution\n",
    "θ_n, q_n, x_n = var_cond.dirichlet_num(conductivity_model, width, mesh, surf_temp)\n",
    "\n",
    "# Analytical solution\n",
    "θ_a, q_a, x_a = var_cond.dirichlet_anal(conductivity_model, width, surf_temp, num=5)\n",
    "\n",
    "# Plot\n",
    "var_cond.dirichlet_plot(x_n, θ_n, x_a, θ_a, surf_temp, 'Fiberglass');"
   ]
  },
  {
   "cell_type": "markdown",
   "id": "abf84644-567f-48e0-b068-8cd831661783",
   "metadata": {},
   "source": [
    "> Figure 2. Comparaison between numerical, analytical and linear solutions when conductance varies linearly with temperature."
   ]
  },
  {
   "cell_type": "code",
   "execution_count": 4,
   "id": "92a6d376-31a5-4908-bdfe-d1a540455641",
   "metadata": {},
   "outputs": [
    {
     "name": "stdout",
     "output_type": "stream",
     "text": [
      "Flow rate / m²:\n",
      "q_n = -8.00 W/m² - numerical solution\n",
      "q_a = -8.00 W/m² - analytical solution\n",
      "q_m = -8.00 W/m² - solution using mean conductivity\n",
      "q_0 = -8.80 W/m² - solution using constant conductivity\n",
      "ε = 10.00 % - relative error by using constant conductivity\n"
     ]
    }
   ],
   "source": [
    "# Flow rate using average conductivity for temperature interval\n",
    "θm = (T0 + T1) / 2 - Tb\n",
    "λm = λ0 * (1 + β * θm)\n",
    "q_m = λm / width * (T0 - T1)\n",
    "\n",
    "# Flow rate using constant conductivity\n",
    "q_0 = λ0 / width * (T0 - T1)\n",
    "\n",
    "# Relative error in heat flow by using constant conductivity\n",
    "ε = (q_0 - q_a) / q_a\n",
    "\n",
    "print('Flow rate / m²:')\n",
    "print(f'q_n = {q_n[0]:.2f} W/m² - numerical solution')\n",
    "print(f'q_a = {q_a:.2f} W/m² - analytical solution')\n",
    "print(f'q_m = {q_m:.2f} W/m² - solution using mean conductivity')\n",
    "print(f'q_0 = {q_0:.2f} W/m² - solution using constant conductivity')\n",
    "print(f'ε = {ε * 100:.2f} % - relative error by using constant conductivity')"
   ]
  },
  {
   "cell_type": "markdown",
   "id": "89f5eeb0-f56e-4e36-9814-fd8475eb99ee",
   "metadata": {},
   "source": [
    "### Quadratic model"
   ]
  },
  {
   "cell_type": "code",
   "execution_count": 5,
   "id": "98ac0204-ec8e-45bf-bc82-d0a38b50470b",
   "metadata": {},
   "outputs": [
    {
     "data": {
      "image/png": "[encoded data removed]",
      "text/plain": [
       "<Figure size 432x288 with 1 Axes>"
      ]
     },
     "metadata": {
      "needs_background": "light"
     },
     "output_type": "display_data"
    }
   ],
   "source": [
    "# data quadratic model\n",
    "Tb = None                   # °C, mean (base) temperature\n",
    "deg = 2\n",
    "\n",
    "a, b, c = 8.364e-06, -3.857e-04, 3.128e-02  # fitted λ(T) = a·T² + b·T + c\n",
    "\n",
    "# Model λ(T) = a*T + b to λ(T) = λ0 * (1 + β * (T - Tb))\n",
    "λ0, β, Tb = var_cond.poly2model([a, b, c], Tb, deg)\n",
    "conductivity_model = [λ0, β, Tb, deg]\n",
    "\n",
    "# Numerical solution\n",
    "θ_n, q_n, x_n = var_cond.dirichlet_num(conductivity_model, width, mesh, surf_temp)\n",
    "\n",
    "# Analytical solution\n",
    "θ_a, q_a, x_a = var_cond.dirichlet_anal(conductivity_model, width, surf_temp, num=5)\n",
    "\n",
    "# Plot\n",
    "var_cond.dirichlet_plot(x_n, θ_n, x_a, θ_a, surf_temp, 'Polyisocyanurate');"
   ]
  },
  {
   "cell_type": "markdown",
   "id": "426c3f24-340f-4588-b24f-a2b053f752d0",
   "metadata": {},
   "source": [
    "> Figure 3. Comparaison between numerical, analytical and linear solutions when conductance varies quadratically with temperature."
   ]
  },
  {
   "cell_type": "code",
   "execution_count": 6,
   "id": "c89c89e7-b9b9-4120-a79d-508cac0b77d3",
   "metadata": {},
   "outputs": [
    {
     "name": "stdout",
     "output_type": "stream",
     "text": [
      "Flow rate / m²:\n",
      "q_n = -6.48 W/m² - numerical solution\n",
      "q_a = -6.48 W/m² - analytical solution\n",
      "q_m = -6.48 W/m² - solution using mean conductivity\n",
      "q_0 = -5.37 W/m² - solution using constant conductivity\n",
      "ε = -17.17 % - relative error by using constant conductivity\n"
     ]
    }
   ],
   "source": [
    "# Flow rate using average conductivity\n",
    "θm = (T0**2 + T0 * T1 + T1**2) / 3 - Tb * (T0 + T1 - Tb)\n",
    "λm = λ0 * (1 + β * θm)\n",
    "q_m = λm / width * (T0 - T1)\n",
    "\n",
    "# Flow rate using constant conductivity\n",
    "q_0 = λ0 / width * (T0 - T1)\n",
    "\n",
    "# Relative error in heat flow by using constant conductivity\n",
    "ε = (q_0 - q_a) / q_a\n",
    "\n",
    "print('Flow rate / m²:')\n",
    "print(f'q_n = {q_n[0]:.2f} W/m² - numerical solution')\n",
    "print(f'q_a = {q_a:.2f} W/m² - analytical solution')\n",
    "print(f'q_m = {q_m:.2f} W/m² - solution using mean conductivity')\n",
    "print(f'q_0 = {q_0:.2f} W/m² - solution using constant conductivity')\n",
    "print(f'ε = {ε * 100:.2f} % - relative error by using constant conductivity')"
   ]
  },
  {
   "cell_type": "markdown",
   "id": "02e89d7d-1343-4622-a358-59de1281b945",
   "metadata": {},
   "source": [
    "## Conclusions\n",
    "\n",
    "If the surface temperatures are known, the flow may be calculated by using the mean temperature:\n",
    "\n",
    "$$\n",
    "\\bar{\\theta} = \\frac{T_0 + T_1}{2} - T_b\n",
    "$$\n",
    "\n",
    "for linear model, or\n",
    "\n",
    "$$\n",
    "\\bar{\\theta} = \\frac{T_0^2 + T_0 T_1 + T_1^2}{3} - T_b (T_0 + T_1 - T_b)\n",
    "$$\n",
    "\n",
    "for quadratic model, in the estimation of mean conductivity:\n",
    "\n",
    "$$\n",
    "\\bar \\lambda = \\lambda_0 (1 + \\beta \\bar \\theta)\n",
    "$$\n",
    "\n",
    "where:\n",
    "- $T_0$, $T_1$ - surface temperatures at $x = 0$ and $x = w$, respectively, °C;\n",
    "- $T_b$ - base temperature, i.e., temeprature for which $\\bar \\lambda = \\lambda_0$, °C;\n",
    "- $\\beta$ - temperature coefficient."
   ]
  },
  {
   "cell_type": "markdown",
   "id": "92aedf07-6154-470d-abd8-1ac77235dc8d",
   "metadata": {},
   "source": [
    "## References\n",
    "\n",
    "- [Ouksel T, (2020)](http://tele-ens.univ-oeb.dz/moodle/pluginfile.php/131239/mod_resource/content/1/Cours_Transfert_3L_Maintenance-Industrielle_OUKSEL.pdf). Cours Transfert Thermique, Université Larbi Ben M’hidi Oum El Bouaghi, Algeria\n",
    "\n",
    "- [Cengel Y. & Ghajar A. (2020)](https://www.studocu.com/row/document/celal-bayar-universitesi/engineering-mechanics/heat-chap02-094-this-is-summaries/11179160). Chapter 2 Heat condution equatiion, in Heat and Mass Transfer: Fundamentals and Applications, 6th Edition, Solution manual, McGraw-Hill Education"
   ]
  }
 ],
 "metadata": {
  "kernelspec": {
   "display_name": "Python 3 (ipykernel)",
   "language": "python",
   "name": "python3"
  },
  "language_info": {
   "codemirror_mode": {
    "name": "ipython",
    "version": 3
   },
   "file_extension": ".py",
   "mimetype": "text/x-python",
   "name": "python",
   "nbconvert_exporter": "python",
   "pygments_lexer": "ipython3",
   "version": "3.9.7"
  },
  "toc-autonumbering": true
 },
 "nbformat": 4,
 "nbformat_minor": 5
}
